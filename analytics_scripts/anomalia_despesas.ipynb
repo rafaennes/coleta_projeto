{
 "cells": [
  {
   "cell_type": "code",
   "execution_count": null,
   "metadata": {},
   "outputs": [],
   "source": [
    "import pymongo\n",
    "from sklearn.ensemble import IsolationForest\n",
    "\n",
    "# MongoDB connection details\n",
    "MONGO_URI = \"mongodb://localhost:27017/\"\n",
    "COLLECTION_NAME = \"slv_notasfiscaisgit\"\n",
    "\n"
   ]
  },
  {
   "cell_type": "code",
   "execution_count": null,
   "metadata": {},
   "outputs": [],
   "source": [
    "# Connect to MongoDB\n",
    "client = pymongo.MongoClient(MONGO_URI)\n",
    "db = client[\"<database>\"]\n",
    "collection = db[COLLECTION_NAME]\n",
    "\n",
    "# Extract relevant features for anomaly detection\n",
    "data = []\n",
    "for document in collection.find():\n",
    "    features = [\n",
    "        int(document[\"CNPJ EMITENTE\"]),\n",
    "        int(document[\"CNPJ DESTINATÁRIO\"]),\n",
    "        int(document[\"VALOR NOTA FISCAL\"]),\n",
    "    ]\n",
    "    data.append(features)\n",
    "\n",
    "# Train the Isolation Forest model\n",
    "model = IsolationForest(contamination=\"auto\")  # Adjust contamination as needed\n",
    "model.fit(data)\n",
    "\n",
    "# Predict anomaly scores\n",
    "anomaly_scores = model.decision_function(data)\n",
    "\n",
    "# Identify anomalies based on a threshold\n",
    "threshold = 0  # Adjust threshold as needed\n",
    "anomalies = [i for i, score in enumerate(anomaly_scores) if score < threshold]\n",
    "\n",
    "# Print the anomalous documents\n",
    "print(\"Anomalous documents:\")\n",
    "for index in anomalies:\n",
    "    document = collection.find().skip(index).limit(1)[0]\n",
    "    print(document)\n",
    "\n",
    "# Close the MongoDB connection\n",
    "client.close()"
   ]
  }
 ],
 "metadata": {
  "language_info": {
   "name": "python"
  }
 },
 "nbformat": 4,
 "nbformat_minor": 2
}
