{
 "cells": [
  {
   "cell_type": "code",
   "execution_count": 15,
   "metadata": {},
   "outputs": [],
   "source": [
    "import os\n",
    "import csv"
   ]
  },
  {
   "cell_type": "code",
   "execution_count": 8,
   "metadata": {},
   "outputs": [
    {
     "name": "stdout",
     "output_type": "stream",
     "text": [
      "Conversion complete!\n"
     ]
    }
   ],
   "source": [
    "import os\n",
    "\n",
    "def convert_csv_to_utf8(root_dir):\n",
    "    for subdir, dirs, files in os.walk(root_dir):\n",
    "        for file in files:\n",
    "            if file.endswith('.csv'):\n",
    "                filepath = os.path.join(subdir, file)\n",
    "\n",
    "                # Read the CSV file, trying to auto-detect the encoding\n",
    "                with open(filepath, 'r', encoding = 'ISO-8859-1',  errors='replace') as f:\n",
    "                    content = f.read()\n",
    "\n",
    "                # Write back to the same file, ensuring UTF-8 encoding\n",
    "                with open(filepath, 'w', encoding='utf-8') as f:\n",
    "                    f.write(content)\n",
    "\n",
    "if __name__ == \"__main__\":\n",
    "    starting_directory = input(\"Enter the starting directory: \")  # Get the directory from the user\n",
    "    convert_csv_to_utf8(starting_directory)\n",
    "    print(\"Conversion complete!\")"
   ]
  }
 ],
 "metadata": {
  "kernelspec": {
   "display_name": "Python 3",
   "language": "python",
   "name": "python3"
  },
  "language_info": {
   "codemirror_mode": {
    "name": "ipython",
    "version": 3
   },
   "file_extension": ".py",
   "mimetype": "text/x-python",
   "name": "python",
   "nbconvert_exporter": "python",
   "pygments_lexer": "ipython3",
   "version": "3.11.9"
  }
 },
 "nbformat": 4,
 "nbformat_minor": 2
}
