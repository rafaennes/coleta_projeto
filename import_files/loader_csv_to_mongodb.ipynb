{
 "cells": [
  {
   "cell_type": "code",
   "execution_count": 2,
   "metadata": {},
   "outputs": [],
   "source": [
    "import os\n",
    "import csv\n",
    "import pymongo\n",
    "from pymongo import MongoClient\n",
    "\n",
    "# Configuração MongoDB\n",
    "client = MongoClient('mongodb://localhost:27017/')  # Ajuste o URL do MongoDB conforme necessário\n",
    "#db = client['gastospublicos']  # Nome do banco de dados"
   ]
  },
  {
   "cell_type": "code",
   "execution_count": 4,
   "metadata": {},
   "outputs": [
    {
     "name": "stdout",
     "output_type": "stream",
     "text": [
      "Conversion and upload complete!\n"
     ]
    }
   ],
   "source": [
    "def convert_and_upload_to_mongodb(root_dir, mongodb_uri):\n",
    "    # Establish MongoDB connection\n",
    "    client = pymongo.MongoClient(mongodb_uri)\n",
    "    db = client['gastospublicos']  # Replace with your actual database name\n",
    "\n",
    "    for subdir, dirs, files in os.walk(root_dir):\n",
    "        for file in files:\n",
    "            if file.endswith('.csv'):\n",
    "                filepath = os.path.join(subdir, file)\n",
    "\n",
    "                # UTF-8 conversion \n",
    " #               with open(filepath, 'r', encoding='utf-8', errors='replace') as f:\n",
    " #                   content = f.read()\n",
    " #               with open(filepath, 'w', encoding='utf-8') as f:\n",
    " #                   f.write(content)\n",
    "\n",
    "                # Extract data from CSV\n",
    "                with open(filepath, 'r', encoding='utf-8') as f:\n",
    "                    reader = csv.reader(f, delimiter=';', quotechar='\"') \n",
    "                    header = next(reader) \n",
    "                    reader = csv.DictReader(f, fieldnames=header, delimiter=';', quotechar='\"') \n",
    "                    data = []\n",
    "                    for row in reader:\n",
    "                        cleaned_row = {str(k) if k is not None else 'unknown_column': v for k, v in row.items()}\n",
    "                        data.append(cleaned_row)\n",
    "\n",
    "                # Create collection dynamically (using root folder name)\n",
    "                collection_name = os.path.basename(root_dir)\n",
    "                collection = db[collection_name]\n",
    "\n",
    "                # Insert data into MongoDB\n",
    "                collection.insert_many(data)\n",
    "\n",
    "if __name__ == \"__main__\":\n",
    "    starting_directory = input(\"Enter the starting directory: \")\n",
    "    mongodb_uri = input(\"Enter your MongoDB connection URI: \") \n",
    "    convert_and_upload_to_mongodb(starting_directory, mongodb_uri)\n",
    "    print(\"Conversion and upload complete!\")"
   ]
  }
 ],
 "metadata": {
  "kernelspec": {
   "display_name": "Python 3",
   "language": "python",
   "name": "python3"
  },
  "language_info": {
   "codemirror_mode": {
    "name": "ipython",
    "version": 3
   },
   "file_extension": ".py",
   "mimetype": "text/x-python",
   "name": "python",
   "nbconvert_exporter": "python",
   "pygments_lexer": "ipython3",
   "version": "3.11.9"
  }
 },
 "nbformat": 4,
 "nbformat_minor": 2
}
